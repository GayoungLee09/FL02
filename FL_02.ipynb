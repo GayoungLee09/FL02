{
 "cells": [
  {
   "cell_type": "code",
   "execution_count": 2,
   "metadata": {
    "tags": []
   },
   "outputs": [
    {
     "name": "stdout",
     "output_type": "stream",
     "text": [
      "Collecting pyts\n",
      "  Downloading pyts-0.12.0-py3-none-any.whl (2.5 MB)\n",
      "Requirement already satisfied: numba>=0.48.0 in c:\\programdata\\anaconda3\\envs\\python_v\\lib\\site-packages (from pyts) (0.54.1)\n",
      "Requirement already satisfied: joblib>=0.12 in c:\\programdata\\anaconda3\\envs\\python_v\\lib\\site-packages (from pyts) (1.1.0)\n",
      "Requirement already satisfied: scikit-learn>=0.22.1 in c:\\programdata\\anaconda3\\envs\\python_v\\lib\\site-packages (from pyts) (0.24.2)\n",
      "Requirement already satisfied: numpy>=1.17.5 in c:\\programdata\\anaconda3\\envs\\python_v\\lib\\site-packages (from pyts) (1.20.3)\n",
      "Requirement already satisfied: scipy>=1.3.0 in c:\\programdata\\anaconda3\\envs\\python_v\\lib\\site-packages (from pyts) (1.7.1)\n",
      "Requirement already satisfied: llvmlite<0.38,>=0.37.0rc1 in c:\\programdata\\anaconda3\\envs\\python_v\\lib\\site-packages (from numba>=0.48.0->pyts) (0.37.0)\n",
      "Requirement already satisfied: setuptools in c:\\programdata\\anaconda3\\envs\\python_v\\lib\\site-packages (from numba>=0.48.0->pyts) (58.0.4)\n",
      "Requirement already satisfied: threadpoolctl>=2.0.0 in c:\\programdata\\anaconda3\\envs\\python_v\\lib\\site-packages (from scikit-learn>=0.22.1->pyts) (2.2.0)\n",
      "Installing collected packages: pyts\n",
      "Successfully installed pyts-0.12.0\n",
      "Note: you may need to restart the kernel to use updated packages.\n"
     ]
    }
   ],
   "source": [
    "pip install pyts"
   ]
  },
  {
   "cell_type": "code",
   "execution_count": 3,
   "metadata": {},
   "outputs": [],
   "source": [
    "import pandas as pd\n",
    "import numpy as np\n",
    "import copy\n",
    "import json\n",
    "from sklearn.preprocessing import MinMaxScaler\n",
    "import matplotlib.pyplot as plt\n",
    "from mpl_toolkits.axes_grid1 import ImageGrid\n",
    "from pyts.image import GramianAngularField\n",
    "from pyts.datasets import load_gunpoint"
   ]
  },
  {
   "cell_type": "code",
   "execution_count": 6,
   "metadata": {
    "tags": []
   },
   "outputs": [
    {
     "data": {
      "text/html": [
       "<div>\n",
       "<style scoped>\n",
       "    .dataframe tbody tr th:only-of-type {\n",
       "        vertical-align: middle;\n",
       "    }\n",
       "\n",
       "    .dataframe tbody tr th {\n",
       "        vertical-align: top;\n",
       "    }\n",
       "\n",
       "    .dataframe thead th {\n",
       "        text-align: right;\n",
       "    }\n",
       "</style>\n",
       "<table border=\"1\" class=\"dataframe\">\n",
       "  <thead>\n",
       "    <tr style=\"text-align: right;\">\n",
       "      <th></th>\n",
       "      <th>Unnamed: 0</th>\n",
       "      <th>x</th>\n",
       "      <th>y</th>\n",
       "      <th>z</th>\n",
       "      <th>activity</th>\n",
       "      <th>client</th>\n",
       "    </tr>\n",
       "  </thead>\n",
       "  <tbody>\n",
       "    <tr>\n",
       "      <th>0</th>\n",
       "      <td>0</td>\n",
       "      <td>1667</td>\n",
       "      <td>2072</td>\n",
       "      <td>2047</td>\n",
       "      <td>1</td>\n",
       "      <td>1</td>\n",
       "    </tr>\n",
       "    <tr>\n",
       "      <th>1</th>\n",
       "      <td>1</td>\n",
       "      <td>1611</td>\n",
       "      <td>1957</td>\n",
       "      <td>1906</td>\n",
       "      <td>1</td>\n",
       "      <td>1</td>\n",
       "    </tr>\n",
       "    <tr>\n",
       "      <th>2</th>\n",
       "      <td>2</td>\n",
       "      <td>1601</td>\n",
       "      <td>1939</td>\n",
       "      <td>1831</td>\n",
       "      <td>1</td>\n",
       "      <td>1</td>\n",
       "    </tr>\n",
       "    <tr>\n",
       "      <th>3</th>\n",
       "      <td>3</td>\n",
       "      <td>1643</td>\n",
       "      <td>1965</td>\n",
       "      <td>1879</td>\n",
       "      <td>1</td>\n",
       "      <td>1</td>\n",
       "    </tr>\n",
       "    <tr>\n",
       "      <th>4</th>\n",
       "      <td>4</td>\n",
       "      <td>1604</td>\n",
       "      <td>1959</td>\n",
       "      <td>1921</td>\n",
       "      <td>1</td>\n",
       "      <td>1</td>\n",
       "    </tr>\n",
       "  </tbody>\n",
       "</table>\n",
       "</div>"
      ],
      "text/plain": [
       "   Unnamed: 0     x     y     z  activity  client\n",
       "0           0  1667  2072  2047         1       1\n",
       "1           1  1611  1957  1906         1       1\n",
       "2           2  1601  1939  1831         1       1\n",
       "3           3  1643  1965  1879         1       1\n",
       "4           4  1604  1959  1921         1       1"
      ]
     },
     "execution_count": 6,
     "metadata": {},
     "output_type": "execute_result"
    }
   ],
   "source": [
    "# df = pd.read_csv(\"dataset/total_dataset.csv\")\n",
    "df = pd.read_csv(\"dataset/total_dataset.csv\")\n",
    "df.head()"
   ]
  },
  {
   "cell_type": "code",
   "execution_count": 8,
   "metadata": {},
   "outputs": [],
   "source": [
    "df_dataset = df.to_dict()\n",
    "# with open('dataset/dataset.json','w') as file:\n",
    "#     json.dump(df_dataset,file)\n",
    "# with open('dataset/dataset.json','r') as file:\n",
    "with open('dataset/dataset.json','r') as file:\n",
    "    dataset = json.load(file)"
   ]
  },
  {
   "cell_type": "code",
   "execution_count": 9,
   "metadata": {},
   "outputs": [],
   "source": [
    "def make_data(num) :#num에 subject\n",
    "    scaler = MinMaxScaler(feature_range=(-1, 1))\n",
    "    # valuex,valuey,valuez = [],[],[]   \n",
    "    for i in ['x','y','z']:\n",
    "        globals()['datalist{}_{}'.format(i,num)] = []\n",
    "        globals()['sensor{}_{}'.format(i,num)] = []\n",
    "        globals()['polar{}_{}'.format(i,num)] = []\n",
    "        \n",
    "        \n",
    "        for j in range(len(dataset['client'])):\n",
    "            #같은 client num을 가지는 데이터에 대하여 모든 x,y,z 데이터를 datalist에 담기\n",
    "            if dataset['client']['{}'.format(j)] == num:\n",
    "                globals()['datalist{}_{}'.format(i,num)].append(dataset[i]['{}'.format(j)])\n",
    "        \n",
    "        #128개로 time series data 배열로 담아 input data가 2D matrix가 되도록 만들기\n",
    "        for i_n in range(len(globals()['datalist{}_{}'.format(i,num)])//52):\n",
    "            globals()['sensor{}_{}'.format(i,num)].append(globals()['datalist{}_{}'.format(i,num)][(len(globals()['datalist{}_{}'.format(i,num)])//(len(globals()['datalist{}_{}'.format(i,num)])//52))*i_n : (len(globals()['datalist{}_{}'.format(i,num)])//(len(globals()['datalist{}_{}'.format(i,num)])//52))*(i_n+1)])\n",
    "        #정규화\n",
    "        globals()['sensor{}_{}'.format(i,num)] = pd.DataFrame(globals()['sensor{}_{}'.format(i,num)]).apply(pd.to_numeric).transpose()\n",
    "        globals()['sensor{}_{}'.format(i,num)][:] = scaler.fit_transform(globals()['sensor{}_{}'.format(i,num)][:])\n",
    "        globals()['sensor{}_{}'.format(i,num)] = pd.DataFrame(globals()['sensor{}_{}'.format(i,num)]).apply(pd.to_numeric).transpose()\n",
    "                                                          \n",
    "    #polar\n",
    "    for q in range(len(globals()['sensor{}_{}'.format('x',num)])) :\n",
    "        valuex,valuey,valuez = [],[],[] \n",
    "        for k in range(52):\n",
    "            xy = globals()['sensor{}_{}'.format('x',num)][k][q]**2 +  globals()['sensor{}_{}'.format('y',num)][k][q]**2\n",
    "            valuex.append(np.sqrt(xy+ globals()['sensor{}_{}'.format('z',num)][k][q]**2))\n",
    "            valuey.append(np.arctan2(np.sqrt(xy), globals()['sensor{}_{}'.format('z',num)][k][q]))\n",
    "            valuez.append(np.arctan2( globals()['sensor{}_{}'.format('y',num)][k][q], globals()['sensor{}_{}'.format('x',num)][k][q]))\n",
    "        globals()['polar{}_{}'.format('x',num)].append(valuex)\n",
    "        globals()['polar{}_{}'.format('y',num)].append(valuey)\n",
    "        globals()['polar{}_{}'.format('z',num)].append(valuez)\n",
    "#     print(polarx_1[0])"
   ]
  },
  {
   "cell_type": "code",
   "execution_count": 10,
   "metadata": {},
   "outputs": [],
   "source": [
    "def make_images(num) :\n",
    "    globals()['mergegasf{}'.format(num)]=[]\n",
    "    globals()['mergegadf{}'.format(num)]=[]\n",
    "    X = globals()['polar{}_{}'.format('x',num)]\n",
    "    Y = globals()['polar{}_{}'.format('y',num)]\n",
    "    Z = globals()['polar{}_{}'.format('z',num)]\n",
    "    Xgasf = GramianAngularField(image_size=24, method='summation')\n",
    "    Xgasf = Xgasf.fit_transform(X)\n",
    "    Xgadf = GramianAngularField(image_size=24, method='difference')\n",
    "    Xgadf = Xgadf.fit_transform(X) \n",
    "    Ygasf = GramianAngularField(image_size=24, method='summation')\n",
    "    Ygasf = Ygasf.fit_transform(Y)\n",
    "    Ygadf = GramianAngularField(image_size=24, method='difference')\n",
    "    Ygadf = Ygadf.fit_transform(Y) \n",
    "    Zgasf = GramianAngularField(image_size=24, method='summation')\n",
    "    Zgasf = Zgasf.fit_transform(Z)\n",
    "    Zgadf = GramianAngularField(image_size=24, method='difference')\n",
    "    Zgadf = Zgadf.fit_transform(Z)\n",
    "    globals()['mergegasf{}'.format(num)].append(Xgasf)\n",
    "    globals()['mergegasf{}'.format(num)].append(Ygasf)\n",
    "    globals()['mergegasf{}'.format(num)].append(Zgasf)\n",
    "    globals()['mergegadf{}'.format(num)].append(Xgadf) \n",
    "    globals()['mergegadf{}'.format(num)].append(Ygadf) \n",
    "    globals()['mergegadf{}'.format(num)].append(Zgadf) "
   ]
  },
  {
   "cell_type": "code",
   "execution_count": 11,
   "metadata": {},
   "outputs": [
    {
     "name": "stdout",
     "output_type": "stream",
     "text": [
      "make_data complete1\n",
      "make_images complete1\n",
      "make_data complete2\n",
      "make_images complete2\n",
      "make_data complete3\n",
      "make_images complete3\n",
      "make_data complete4\n",
      "make_images complete4\n",
      "make_data complete5\n",
      "make_images complete5\n",
      "make_data complete6\n",
      "make_images complete6\n",
      "make_data complete7\n",
      "make_images complete7\n",
      "make_data complete8\n",
      "make_images complete8\n",
      "make_data complete9\n",
      "make_images complete9\n",
      "make_data complete10\n",
      "make_images complete10\n",
      "make_data complete11\n",
      "make_images complete11\n",
      "make_data complete12\n",
      "make_images complete12\n",
      "make_data complete13\n",
      "make_images complete13\n",
      "make_data complete14\n",
      "make_images complete14\n",
      "make_data complete15\n",
      "make_images complete15\n"
     ]
    }
   ],
   "source": [
    "for i in range(1,16):\n",
    "    make_data(i)\n",
    "    print(f'make_data complete{i}')\n",
    "    make_images(i)\n",
    "    print(f'make_images complete{i}')\n",
    "# make_data(1)\n",
    "# make_images(1)"
   ]
  },
  {
   "cell_type": "code",
   "execution_count": 12,
   "metadata": {},
   "outputs": [
    {
     "data": {
      "image/png": "[encoded data removed]",
      "text/plain": [
       "<Figure size 576x288 with 4 Axes>"
      ]
     },
     "metadata": {
      "needs_background": "light"
     },
     "output_type": "display_data"
    }
   ],
   "source": [
    "def show_image(images):\n",
    "    fig = plt.figure(figsize=(8, 4))\n",
    "    grid = ImageGrid(fig, 111,\n",
    "                     nrows_ncols=(1, 2),\n",
    "                     axes_pad=0.15,\n",
    "                     share_all=True,\n",
    "                     cbar_location=\"right\",\n",
    "                     cbar_mode=\"single\",\n",
    "                     cbar_size=\"7%\",\n",
    "                     cbar_pad=0.3,\n",
    "                     ) \n",
    "    titles = ['Summation', 'Difference']\n",
    "    for image, title, ax in zip(images, titles, grid):\n",
    "        im = ax.imshow(image, cmap='rainbow', origin='lower')\n",
    "        ax.set_title(title, fontdict={'fontsize': 12})\n",
    "    ax.cax.colorbar(im)\n",
    "    ax.cax.toggle_label(True)\n",
    "    plt.suptitle('Gramian Angular Fields', y=0.98, fontsize=16)\n",
    "    plt.show()\n",
    "\n",
    "images = [mergegasf1[0][0],mergegadf1[0][0]]\n",
    "show_image(images) "
   ]
  },
  {
   "cell_type": "code",
   "execution_count": 13,
   "metadata": {},
   "outputs": [
    {
     "data": {
      "text/plain": [
       "3125"
      ]
     },
     "execution_count": 13,
     "metadata": {},
     "output_type": "execute_result"
    }
   ],
   "source": [
    "for i in range(1,16):\n",
    "    globals()['mergegasf{}'.format(i)] = np.transpose(globals()['mergegasf{}'.format(i)],(1,2,3,0))\n",
    "    globals()['mergegadf{}'.format(i)] = np.transpose(globals()['mergegadf{}'.format(i)],(1,2,3,0))\n",
    "# i = 1\n",
    "# globals()['mergegasf{}'.format(i)] = np.transpose(globals()['mergegasf{}'.format(i)],(1,2,3,0))\n",
    "# globals()['mergegadf{}'.format(i)] = np.transpose(globals()['mergegadf{}'.format(i)],(1,2,3,0))\n",
    "len(mergegasf1) #절대 다시돌리면안돼"
   ]
  },
  {
   "cell_type": "code",
   "execution_count": 14,
   "metadata": {},
   "outputs": [],
   "source": [
    "import os\n",
    "import tensorflow as tf\n",
    "from tensorflow import reshape\n",
    "from collections import OrderedDict\n",
    "from tensorflow.keras.models import Sequential\n",
    "\n",
    "from tensorflow.keras.layers import Input,Conv2D, BatchNormalization, MaxPool2D, Dropout, Flatten, Dense\n",
    "from tensorflow.keras.optimizers import SGD\n",
    "from tensorflow.keras import backend as K\n",
    "from tensorflow.keras.losses import CategoricalCrossentropy\n",
    "from tensorflow.keras.metrics import CategoricalAccuracy\n",
    "from sklearn.metrics import accuracy_score"
   ]
  },
  {
   "cell_type": "code",
   "execution_count": 15,
   "metadata": {},
   "outputs": [],
   "source": [
    "def make_client(sub):\n",
    "\n",
    "    X, Y = [],[]\n",
    "    X = (globals()['mergegasf{}'.format(sub)])\n",
    "    datalist = []\n",
    "    for i in range(len(dataset['client'])):\n",
    "        if dataset['client']['{}'.format(i)] == sub:\n",
    "            datalist.append(dataset['activity']['{}'.format(i)])\n",
    "    for i_n in range(len(datalist)//52):\n",
    "        if datalist[(len(datalist)//(len(datalist)//52))*i_n]-1 == -1:\n",
    "            Y.append(datalist[(len(datalist)//(len(datalist)//52))*i_n])\n",
    "        else:\n",
    "            Y.append(datalist[(len(datalist)//(len(datalist)//52))*i_n]-1) #-1 한 이유 : (1-7)을 (0-6)으로 바꿔줌\n",
    "    target = Y #onehot\n",
    "    num = np.unique(target, axis=0)\n",
    "#     print(num)\n",
    "    num = num.shape[0]\n",
    "    Y = np.eye(num)[target]\n",
    "    \n",
    "    data_set = tf.data.Dataset.from_tensor_slices((list(X), list(Y)))\n",
    "    \n",
    "    return data_set.shuffle(len(Y)).batch(64)#원래는 64\n",
    "#     return data_set.shuffle(len(Y)).batch(141)#141은 1269의 약수"
   ]
  },
  {
   "cell_type": "code",
   "execution_count": 16,
   "metadata": {},
   "outputs": [],
   "source": [
    "#outofbouns error - 데이터가 1부터 시작해서 --> (1-7)을 (0-6)으로 바꿔줌\n",
    "clients_batched = dict()\n",
    "for i in range(1,13):\n",
    "    clients_batched[i] = make_client(i)"
   ]
  },
  {
   "cell_type": "code",
   "execution_count": 17,
   "metadata": {},
   "outputs": [
    {
     "data": {
      "text/plain": [
       "{1: <BatchDataset element_spec=(TensorSpec(shape=(None, 24, 24, 3), dtype=tf.float64, name=None), TensorSpec(shape=(None, 7), dtype=tf.float64, name=None))>,\n",
       " 2: <BatchDataset element_spec=(TensorSpec(shape=(None, 24, 24, 3), dtype=tf.float64, name=None), TensorSpec(shape=(None, 7), dtype=tf.float64, name=None))>,\n",
       " 3: <BatchDataset element_spec=(TensorSpec(shape=(None, 24, 24, 3), dtype=tf.float64, name=None), TensorSpec(shape=(None, 7), dtype=tf.float64, name=None))>,\n",
       " 4: <BatchDataset element_spec=(TensorSpec(shape=(None, 24, 24, 3), dtype=tf.float64, name=None), TensorSpec(shape=(None, 7), dtype=tf.float64, name=None))>,\n",
       " 5: <BatchDataset element_spec=(TensorSpec(shape=(None, 24, 24, 3), dtype=tf.float64, name=None), TensorSpec(shape=(None, 7), dtype=tf.float64, name=None))>,\n",
       " 6: <BatchDataset element_spec=(TensorSpec(shape=(None, 24, 24, 3), dtype=tf.float64, name=None), TensorSpec(shape=(None, 7), dtype=tf.float64, name=None))>,\n",
       " 7: <BatchDataset element_spec=(TensorSpec(shape=(None, 24, 24, 3), dtype=tf.float64, name=None), TensorSpec(shape=(None, 7), dtype=tf.float64, name=None))>,\n",
       " 8: <BatchDataset element_spec=(TensorSpec(shape=(None, 24, 24, 3), dtype=tf.float64, name=None), TensorSpec(shape=(None, 7), dtype=tf.float64, name=None))>,\n",
       " 9: <BatchDataset element_spec=(TensorSpec(shape=(None, 24, 24, 3), dtype=tf.float64, name=None), TensorSpec(shape=(None, 7), dtype=tf.float64, name=None))>,\n",
       " 10: <BatchDataset element_spec=(TensorSpec(shape=(None, 24, 24, 3), dtype=tf.float64, name=None), TensorSpec(shape=(None, 7), dtype=tf.float64, name=None))>,\n",
       " 11: <BatchDataset element_spec=(TensorSpec(shape=(None, 24, 24, 3), dtype=tf.float64, name=None), TensorSpec(shape=(None, 7), dtype=tf.float64, name=None))>,\n",
       " 12: <BatchDataset element_spec=(TensorSpec(shape=(None, 24, 24, 3), dtype=tf.float64, name=None), TensorSpec(shape=(None, 7), dtype=tf.float64, name=None))>}"
      ]
     },
     "execution_count": 17,
     "metadata": {},
     "output_type": "execute_result"
    }
   ],
   "source": [
    "clients_batched"
   ]
  },
  {
   "cell_type": "code",
   "execution_count": 18,
   "metadata": {},
   "outputs": [],
   "source": [
    "def make_test(sub):\n",
    "    X, Y = [],[]\n",
    "    X = globals()['mergegasf{}'.format(sub)]\n",
    "    datalist = []\n",
    "    for i in range(len(dataset['client'])):\n",
    "        if dataset['client']['{}'.format(i)] == sub:\n",
    "            datalist.append(dataset['activity']['{}'.format(i)])\n",
    "            \n",
    "            \n",
    "    for i_n in range(len(datalist)//52):\n",
    "        Y.append(datalist[(len(datalist)//(len(datalist)//52))*i_n]-1) #-1 한 이유 : (1-7)을 (0-6)으로 바꿔줌\n",
    "    target = Y #onehot\n",
    "    num = np.unique(target, axis=0)\n",
    "    num = num.shape[0]\n",
    "    Y = np.eye(num)[target]\n",
    "    return X,Y"
   ]
  },
  {
   "cell_type": "code",
   "execution_count": 19,
   "metadata": {},
   "outputs": [],
   "source": [
    "testX13,testY13 = make_test(13)\n",
    "testX14,testY14 = make_test(14)\n",
    "testX15,testY15 = make_test(15)\n",
    "Xtest = np.concatenate((testX13,testX14,testX15),axis=0)\n",
    "Ytest = np.concatenate((testY13,testY14,testY15),axis=0)\n",
    "# Xtest = np.concatenate((testX14,testX15),axis=0)\n",
    "# Ytest = np.concatenate((testY14,testY15),axis=0)\n",
    "# Xtest = testX15\n",
    "# Ytest = testY15"
   ]
  },
  {
   "cell_type": "code",
   "execution_count": 20,
   "metadata": {},
   "outputs": [
    {
     "data": {
      "text/plain": [
       "(5522, 24, 24, 3)"
      ]
     },
     "execution_count": 20,
     "metadata": {},
     "output_type": "execute_result"
    }
   ],
   "source": [
    "Xtest.shape"
   ]
  },
  {
   "cell_type": "code",
   "execution_count": 21,
   "metadata": {},
   "outputs": [
    {
     "data": {
      "text/plain": [
       "(5522, 7)"
      ]
     },
     "execution_count": 21,
     "metadata": {},
     "output_type": "execute_result"
    }
   ],
   "source": [
    "Ytest.shape"
   ]
  },
  {
   "cell_type": "code",
   "execution_count": 22,
   "metadata": {},
   "outputs": [
    {
     "data": {
      "text/plain": [
       "<BatchDataset element_spec=(TensorSpec(shape=(None, 24, 24, 3), dtype=tf.float64, name=None), TensorSpec(shape=(None, 7), dtype=tf.float64, name=None))>"
      ]
     },
     "execution_count": 22,
     "metadata": {},
     "output_type": "execute_result"
    }
   ],
   "source": [
    "testbatched = tf.data.Dataset.from_tensor_slices((Xtest,Ytest)).batch(len(Ytest))\n",
    "testbatched"
   ]
  },
  {
   "cell_type": "code",
   "execution_count": 23,
   "metadata": {},
   "outputs": [
    {
     "name": "stdout",
     "output_type": "stream",
     "text": [
      "Model: \"sequential\"\n",
      "_________________________________________________________________\n",
      " Layer (type)                Output Shape              Param #   \n",
      "=================================================================\n",
      " conv2d (Conv2D)             (None, 24, 24, 7)         196       \n",
      "                                                                 \n",
      " max_pooling2d (MaxPooling2D  (None, 12, 12, 7)        0         \n",
      " )                                                               \n",
      "                                                                 \n",
      " conv2d_1 (Conv2D)           (None, 12, 12, 14)        406       \n",
      "                                                                 \n",
      " max_pooling2d_1 (MaxPooling  (None, 6, 6, 14)         0         \n",
      " 2D)                                                             \n",
      "                                                                 \n",
      " conv2d_2 (Conv2D)           (None, 6, 6, 21)          1197      \n",
      "                                                                 \n",
      " max_pooling2d_2 (MaxPooling  (None, 3, 3, 21)         0         \n",
      " 2D)                                                             \n",
      "                                                                 \n",
      " flatten (Flatten)           (None, 189)               0         \n",
      "                                                                 \n",
      " dense (Dense)               (None, 100)               19000     \n",
      "                                                                 \n",
      " dropout (Dropout)           (None, 100)               0         \n",
      "                                                                 \n",
      " dense_1 (Dense)             (None, 7)                 707       \n",
      "                                                                 \n",
      "=================================================================\n",
      "Total params: 21,506\n",
      "Trainable params: 21,506\n",
      "Non-trainable params: 0\n",
      "_________________________________________________________________\n"
     ]
    }
   ],
   "source": [
    "def create_keras_model():\n",
    "\n",
    "    # Create keras model\n",
    "    model = Sequential()\n",
    "\n",
    "    # 1st convolution layer\n",
    "    model.add(Input(shape=(24,24,3)))\n",
    "\n",
    "    model.add(Conv2D(filters=7,kernel_size=(3,3),strides=1,padding='same',activation=tf.nn.relu))\n",
    "    model.add(MaxPool2D(pool_size=(2,2),strides=2,padding='same'))\n",
    "\n",
    "    model.add(Conv2D(filters=14,kernel_size=(2,2),strides=1,padding='same',activation=tf.nn.relu))\n",
    "    model.add(MaxPool2D(pool_size=(2,2),strides=2,padding='same'))\n",
    "\n",
    "    model.add(Conv2D(filters=21,kernel_size=(2,2),strides=1,padding='same',activation=tf.nn.relu))\n",
    "    model.add(MaxPool2D(pool_size=(2,2),strides=2,padding='same'))\n",
    "    \n",
    "    # Fully connected layer\n",
    "    model.add(Flatten())\n",
    "    model.add(Dense(100, activation='relu'))\n",
    "    model.add(Dropout(0.8))\n",
    "    model.add(Dense(7, activation='softmax')) #y가 (None,7)타입이므로\n",
    "\n",
    "    # Compile the model\n",
    "    #model.compile(loss=SparseCategoricalCrossentropy(),\n",
    "    #              optimizer=SGD(learning_rate=0.02),\n",
    "    #              metrics=[SparseCategoricalAccuracy()])\n",
    "    \n",
    "    return model\n",
    "\n",
    "# Summary model\n",
    "keras_model = create_keras_model()\n",
    "keras_model.summary()"
   ]
  },
  {
   "cell_type": "code",
   "execution_count": 25,
   "metadata": {},
   "outputs": [],
   "source": [
    "from tensorflow.keras.optimizers import Adam\n",
    "lr = 0.01  \n",
    "comms_round = 30\n",
    "loss='categorical_crossentropy'\n",
    "metrics = ['CategoricalAccuracy']\n",
    "# metrics = ['accuracy']\n",
    "optimizer = SGD(learning_rate=lr, decay=0.005 / comms_round, momentum=0.5)  "
   ]
  },
  {
   "cell_type": "code",
   "execution_count": 26,
   "metadata": {},
   "outputs": [],
   "source": [
    "def weight_scalling_factor(clients_trn_data, client_name):\n",
    "    client_names = list(clients_trn_data.keys())\n",
    "    #get the bs\n",
    "    bs = list(clients_trn_data[client_name])[0][0].shape[0]\n",
    "    #first calculate the total training data points across clinets\n",
    "    global_count = sum([tf.data.experimental.cardinality(clients_trn_data[client_name]).numpy() for client_name in client_names])*bs\n",
    "    # get the total number of data points held by a client\n",
    "    local_count = tf.data.experimental.cardinality(clients_trn_data[client_name]).numpy()*bs\n",
    "    return local_count/global_count\n",
    "\n",
    "\n",
    "def scale_model_weights(weight, scalar):\n",
    "    '''function for scaling a models weights'''\n",
    "    weight_final = []\n",
    "    steps = len(weight)\n",
    "    for i in range(steps):\n",
    "        weight_final.append(scalar * weight[i])\n",
    "    return weight_final\n",
    "\n",
    "\n",
    "\n",
    "def sum_scaled_weights(scaled_weight_list):\n",
    "    '''Return the sum of the listed scaled weights. The is equivalent to scaled avg of the weights'''\n",
    "    avg_grad = list()\n",
    "    #get the average grad accross all client gradients\n",
    "    for grad_list_tuple in zip(*scaled_weight_list):\n",
    "        layer_mean = tf.math.reduce_sum(grad_list_tuple, axis=0)\n",
    "        avg_grad.append(layer_mean)\n",
    "        \n",
    "    return avg_grad\n",
    "\n",
    "\n",
    "def test_model(X_test, Y_test,  model, comm_round):\n",
    "    cce = tf.keras.losses.CategoricalCrossentropy(from_logits=True)\n",
    "    logits = model.predict(X_test, batch_size=100)\n",
    "    # logits = model.predict(X_test)\n",
    "    loss = cce(Y_test, logits)\n",
    "    acc = accuracy_score(tf.argmax(logits, axis=1), tf.argmax(Y_test, axis=1)) \n",
    "    print('comm_round: {} | global_acc: {:.3%} | global_loss: {}'.format(comm_round, acc, loss))\n",
    "    return acc, loss"
   ]
  },
  {
   "cell_type": "code",
   "execution_count": 27,
   "metadata": {
    "tags": []
   },
   "outputs": [
    {
     "name": "stdout",
     "output_type": "stream",
     "text": [
      "comm_round: 0 | global_acc: 35.512% | global_loss: 1.8630892038345337\n",
      "comm_round: 1 | global_acc: 35.331% | global_loss: 1.850809097290039\n",
      "comm_round: 2 | global_acc: 39.044% | global_loss: 1.8380143642425537\n",
      "comm_round: 3 | global_acc: 43.734% | global_loss: 1.8230409622192383\n",
      "comm_round: 4 | global_acc: 45.907% | global_loss: 1.8141535520553589\n",
      "comm_round: 5 | global_acc: 46.233% | global_loss: 1.8077915906906128\n",
      "comm_round: 6 | global_acc: 46.958% | global_loss: 1.8030226230621338\n",
      "comm_round: 7 | global_acc: 47.048% | global_loss: 1.8000154495239258\n",
      "comm_round: 8 | global_acc: 46.994% | global_loss: 1.7961105108261108\n",
      "comm_round: 9 | global_acc: 47.374% | global_loss: 1.793364405632019\n",
      "comm_round: 10 | global_acc: 47.428% | global_loss: 1.791412115097046\n",
      "comm_round: 11 | global_acc: 47.338% | global_loss: 1.7900913953781128\n",
      "comm_round: 12 | global_acc: 47.447% | global_loss: 1.788299560546875\n",
      "comm_round: 13 | global_acc: 47.591% | global_loss: 1.7867146730422974\n",
      "comm_round: 14 | global_acc: 47.718% | global_loss: 1.7851287126541138\n",
      "comm_round: 15 | global_acc: 47.773% | global_loss: 1.7841876745224\n",
      "comm_round: 16 | global_acc: 47.845% | global_loss: 1.783164620399475\n",
      "comm_round: 17 | global_acc: 47.682% | global_loss: 1.782578468322754\n",
      "comm_round: 18 | global_acc: 47.863% | global_loss: 1.7810330390930176\n",
      "comm_round: 19 | global_acc: 47.809% | global_loss: 1.781080722808838\n",
      "comm_round: 20 | global_acc: 48.062% | global_loss: 1.7796440124511719\n",
      "comm_round: 21 | global_acc: 48.117% | global_loss: 1.779022455215454\n",
      "comm_round: 22 | global_acc: 47.917% | global_loss: 1.778745412826538\n",
      "comm_round: 23 | global_acc: 48.153% | global_loss: 1.7777091264724731\n",
      "comm_round: 24 | global_acc: 47.863% | global_loss: 1.7772446870803833\n",
      "comm_round: 25 | global_acc: 48.099% | global_loss: 1.7759802341461182\n",
      "comm_round: 26 | global_acc: 48.080% | global_loss: 1.7756718397140503\n",
      "comm_round: 27 | global_acc: 47.863% | global_loss: 1.775368332862854\n",
      "comm_round: 28 | global_acc: 47.791% | global_loss: 1.7750542163848877\n",
      "comm_round: 29 | global_acc: 47.736% | global_loss: 1.7747056484222412\n"
     ]
    }
   ],
   "source": [
    "#initialize global model\n",
    "import random\n",
    "global_model = create_keras_model()\n",
    "        \n",
    "#commence global training loop\n",
    "for comm_round in range(comms_round):\n",
    "            \n",
    "    # get the global model's weights - will serve as the initial weights for all local models\n",
    "    global_weights = global_model.get_weights()\n",
    "    \n",
    "    #initial list to collect local model weights after scalling\n",
    "    scaled_local_weight_list = list()\n",
    "\n",
    "    #randomize client data - using keys\n",
    "    client_names= list(clients_batched.keys())\n",
    "    random.shuffle(client_names)\n",
    "    \n",
    "    #loop through each client and create new local model\n",
    "    for client in client_names:\n",
    "        local_model = create_keras_model()\n",
    "        local_model.compile(loss=loss, \n",
    "                      optimizer=optimizer, \n",
    "                      metrics=metrics)\n",
    "        \n",
    "        #set local model weight to the weight of the global model\n",
    "        local_model.set_weights(global_weights)\n",
    "        \n",
    "        #fit local model with client's data\n",
    "        local_model.fit(clients_batched[client], epochs=10, verbose=0) #epoch 1: 18% 10 :20% 100 :\n",
    "        \n",
    "        #scale the model weights and add to list\n",
    "        scaling_factor = weight_scalling_factor(clients_batched, client)\n",
    "        scaled_weights = scale_model_weights(local_model.get_weights(), scaling_factor)\n",
    "        scaled_local_weight_list.append(scaled_weights)\n",
    "        \n",
    "        #clear session to free memory after each communication round\n",
    "        K.clear_session()\n",
    "        \n",
    "    #to get the average over all the local model, we simply take the sum of the scaled weights\n",
    "    average_weights = sum_scaled_weights(scaled_local_weight_list)\n",
    "    \n",
    "    #update global model \n",
    "    global_model.set_weights(average_weights)\n",
    "    \n",
    "\n",
    "    #test global model and print out metrics after each communications round\n",
    "    for(X_test, Y_test) in testbatched:\n",
    "        global_acc, global_loss = test_model(X_test, Y_test, global_model, comm_round)"
   ]
  },
  {
   "cell_type": "code",
   "execution_count": null,
   "metadata": {},
   "outputs": [],
   "source": []
  },
  {
   "cell_type": "code",
   "execution_count": null,
   "metadata": {},
   "outputs": [],
   "source": [
    "    "
   ]
  },
  {
   "cell_type": "code",
   "execution_count": null,
   "metadata": {},
   "outputs": [],
   "source": []
  },
  {
   "cell_type": "code",
   "execution_count": null,
   "metadata": {},
   "outputs": [],
   "source": []
  },
  {
   "cell_type": "code",
   "execution_count": null,
   "metadata": {},
   "outputs": [],
   "source": []
  },
  {
   "cell_type": "code",
   "execution_count": null,
   "metadata": {},
   "outputs": [],
   "source": []
  },
  {
   "cell_type": "code",
   "execution_count": null,
   "metadata": {},
   "outputs": [],
   "source": []
  }
 ],
 "metadata": {
  "kernelspec": {
   "display_name": "Python 3",
   "language": "python",
   "name": "python3"
  },
  "language_info": {
   "codemirror_mode": {
    "name": "ipython",
    "version": 3
   },
   "file_extension": ".py",
   "mimetype": "text/x-python",
   "name": "python",
   "nbconvert_exporter": "python",
   "pygments_lexer": "ipython3",
   "version": "3.7.6"
  }
 },
 "nbformat": 4,
 "nbformat_minor": 5
}
